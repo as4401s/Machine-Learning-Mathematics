{
 "cells": [
  {
   "cell_type": "code",
   "execution_count": 1,
   "id": "6a8c37f4",
   "metadata": {},
   "outputs": [],
   "source": [
    "import numpy as np"
   ]
  },
  {
   "cell_type": "code",
   "execution_count": 2,
   "id": "ce007edc",
   "metadata": {},
   "outputs": [
    {
     "data": {
      "text/plain": [
       "array([25,  2,  5])"
      ]
     },
     "execution_count": 2,
     "metadata": {},
     "output_type": "execute_result"
    }
   ],
   "source": [
    "x = np.array([25, 2, 5]) # type argument is optional, e.g.: dtype=np.float16\n",
    "x"
   ]
  },
  {
   "cell_type": "markdown",
   "id": "5663f4aa",
   "metadata": {},
   "source": [
    "### L2 norm"
   ]
  },
  {
   "cell_type": "code",
   "execution_count": 3,
   "id": "09e9ed94",
   "metadata": {},
   "outputs": [
    {
     "data": {
      "text/plain": [
       "25.573423705088842"
      ]
     },
     "execution_count": 3,
     "metadata": {},
     "output_type": "execute_result"
    }
   ],
   "source": [
    "\n",
    "(25**2 + 2**2 + 5**2)**(1/2)"
   ]
  },
  {
   "cell_type": "code",
   "execution_count": 4,
   "id": "cffc17c8",
   "metadata": {},
   "outputs": [
    {
     "data": {
      "text/plain": [
       "25.573423705088842"
      ]
     },
     "execution_count": 4,
     "metadata": {},
     "output_type": "execute_result"
    }
   ],
   "source": [
    "np.linalg.norm(x)"
   ]
  },
  {
   "cell_type": "markdown",
   "id": "12bc8c51",
   "metadata": {},
   "source": [
    "So, if units in this 3-dimensional vector space are meters, then the vector \n",
    " has a length of 25.6m"
   ]
  },
  {
   "cell_type": "markdown",
   "id": "9faf7512",
   "metadata": {},
   "source": [
    "### L1 norm"
   ]
  },
  {
   "cell_type": "code",
   "execution_count": 8,
   "id": "34a9ee83",
   "metadata": {},
   "outputs": [
    {
     "data": {
      "text/plain": [
       "array([25,  2,  5])"
      ]
     },
     "execution_count": 8,
     "metadata": {},
     "output_type": "execute_result"
    }
   ],
   "source": [
    "x"
   ]
  },
  {
   "cell_type": "code",
   "execution_count": 9,
   "id": "235a3369",
   "metadata": {},
   "outputs": [
    {
     "data": {
      "text/plain": [
       "32"
      ]
     },
     "execution_count": 9,
     "metadata": {},
     "output_type": "execute_result"
    }
   ],
   "source": [
    "np.abs(25) + np.abs(2) + np.abs(5)"
   ]
  },
  {
   "cell_type": "markdown",
   "id": "fe346799",
   "metadata": {},
   "source": [
    "### Squared L2 norm"
   ]
  },
  {
   "cell_type": "code",
   "execution_count": 5,
   "id": "d3de2ded",
   "metadata": {},
   "outputs": [
    {
     "data": {
      "text/plain": [
       "array([25,  2,  5])"
      ]
     },
     "execution_count": 5,
     "metadata": {},
     "output_type": "execute_result"
    }
   ],
   "source": [
    "x"
   ]
  },
  {
   "cell_type": "code",
   "execution_count": 6,
   "id": "159be649",
   "metadata": {},
   "outputs": [
    {
     "data": {
      "text/plain": [
       "654"
      ]
     },
     "execution_count": 6,
     "metadata": {},
     "output_type": "execute_result"
    }
   ],
   "source": [
    "(25**2 + 2**2 + 5**2)"
   ]
  },
  {
   "cell_type": "code",
   "execution_count": 7,
   "id": "065407a3",
   "metadata": {},
   "outputs": [
    {
     "data": {
      "text/plain": [
       "654"
      ]
     },
     "execution_count": 7,
     "metadata": {},
     "output_type": "execute_result"
    }
   ],
   "source": [
    "np.dot(x, x)"
   ]
  },
  {
   "cell_type": "markdown",
   "id": "265e572e",
   "metadata": {},
   "source": [
    "### Max norm"
   ]
  },
  {
   "cell_type": "code",
   "execution_count": 10,
   "id": "19566ead",
   "metadata": {},
   "outputs": [
    {
     "data": {
      "text/plain": [
       "array([25,  2,  5])"
      ]
     },
     "execution_count": 10,
     "metadata": {},
     "output_type": "execute_result"
    }
   ],
   "source": [
    "x"
   ]
  },
  {
   "cell_type": "code",
   "execution_count": 11,
   "id": "d2c4e5db",
   "metadata": {},
   "outputs": [
    {
     "data": {
      "text/plain": [
       "25"
      ]
     },
     "execution_count": 11,
     "metadata": {},
     "output_type": "execute_result"
    }
   ],
   "source": [
    "np.max([np.abs(25), np.abs(2), np.abs(5)])"
   ]
  },
  {
   "cell_type": "code",
   "execution_count": 12,
   "id": "17edf689",
   "metadata": {},
   "outputs": [
    {
     "data": {
      "text/plain": [
       "[1, 1]"
      ]
     },
     "execution_count": 12,
     "metadata": {},
     "output_type": "execute_result"
    }
   ],
   "source": [
    "y= ([1,1])\n",
    "y"
   ]
  },
  {
   "cell_type": "code",
   "execution_count": 13,
   "id": "596e9833",
   "metadata": {},
   "outputs": [
    {
     "data": {
      "text/plain": [
       "1.4142135623730951"
      ]
     },
     "execution_count": 13,
     "metadata": {},
     "output_type": "execute_result"
    }
   ],
   "source": [
    "np.linalg.norm(y)"
   ]
  }
 ],
 "metadata": {
  "kernelspec": {
   "display_name": "Python 3 (ipykernel)",
   "language": "python",
   "name": "python3"
  },
  "language_info": {
   "codemirror_mode": {
    "name": "ipython",
    "version": 3
   },
   "file_extension": ".py",
   "mimetype": "text/x-python",
   "name": "python",
   "nbconvert_exporter": "python",
   "pygments_lexer": "ipython3",
   "version": "3.9.13"
  }
 },
 "nbformat": 4,
 "nbformat_minor": 5
}
