{
  "nbformat": 4,
  "nbformat_minor": 0,
  "metadata": {
    "colab": {
      "provenance": [],
      "authorship_tag": "ABX9TyMZ3pzX1wV6Ef7Ngg2v87+c",
      "include_colab_link": true
    },
    "kernelspec": {
      "name": "python3",
      "display_name": "Python 3"
    },
    "language_info": {
      "name": "python"
    }
  },
  "cells": [
    {
      "cell_type": "markdown",
      "metadata": {
        "id": "view-in-github",
        "colab_type": "text"
      },
      "source": [
        "<a href=\"https://colab.research.google.com/github/as4401s/Machine-Learning-Mathematics/blob/main/18_Singular_Value_Decomposition_SVD.ipynb\" target=\"_parent\"><img src=\"https://colab.research.google.com/assets/colab-badge.svg\" alt=\"Open In Colab\"/></a>"
      ]
    },
    {
      "cell_type": "code",
      "execution_count": 1,
      "metadata": {
        "id": "stQwYKJjqIh8"
      },
      "outputs": [],
      "source": [
        "import numpy as np"
      ]
    },
    {
      "cell_type": "markdown",
      "source": [
        "$A = UDV^T$\n",
        "\n",
        "Where:\n",
        "\n",
        "* $U$ is an orthogonal $m \\times m$ matrix; its columns are the **left-singular vectors** of $A$.\n",
        "* $V$ is an orthogonal $n \\times n$ matrix; its columns are the **right-singular vectors** of $A$.\n",
        "* $D$ is a diagonal $m \\times n$ matrix; elements along its diagonal are the **singular values** of $A$."
      ],
      "metadata": {
        "id": "vnAmYGlrv_0o"
      }
    },
    {
      "cell_type": "code",
      "source": [
        "A = np.array([[-1,2],[3,-2],[5,7]])\n",
        "A"
      ],
      "metadata": {
        "colab": {
          "base_uri": "https://localhost:8080/"
        },
        "id": "bx3DdD4cqSGO",
        "outputId": "f103e7ca-3422-4965-f867-13ba0c488927"
      },
      "execution_count": 2,
      "outputs": [
        {
          "output_type": "execute_result",
          "data": {
            "text/plain": [
              "array([[-1,  2],\n",
              "       [ 3, -2],\n",
              "       [ 5,  7]])"
            ]
          },
          "metadata": {},
          "execution_count": 2
        }
      ]
    },
    {
      "cell_type": "code",
      "source": [
        "U,d,VT =np.linalg.svd(A)"
      ],
      "metadata": {
        "id": "G43mXcuDzfe0"
      },
      "execution_count": 3,
      "outputs": []
    },
    {
      "cell_type": "code",
      "source": [
        "U #3x3"
      ],
      "metadata": {
        "colab": {
          "base_uri": "https://localhost:8080/"
        },
        "id": "aF3W8BB3zkyK",
        "outputId": "64b280c6-6135-4fb4-edb6-340e71e3a47b"
      },
      "execution_count": 4,
      "outputs": [
        {
          "output_type": "execute_result",
          "data": {
            "text/plain": [
              "array([[ 0.12708324,  0.47409506,  0.87125411],\n",
              "       [ 0.00164602, -0.87847553,  0.47778451],\n",
              "       [ 0.99189069, -0.0592843 , -0.11241989]])"
            ]
          },
          "metadata": {},
          "execution_count": 4
        }
      ]
    },
    {
      "cell_type": "code",
      "source": [
        "d"
      ],
      "metadata": {
        "colab": {
          "base_uri": "https://localhost:8080/"
        },
        "id": "_h4REcjXzlYy",
        "outputId": "83cc3bc0-6b78-4f07-810d-d3ac2171536e"
      },
      "execution_count": 5,
      "outputs": [
        {
          "output_type": "execute_result",
          "data": {
            "text/plain": [
              "array([8.66918448, 4.10429538])"
            ]
          },
          "metadata": {},
          "execution_count": 5
        }
      ]
    },
    {
      "cell_type": "code",
      "source": [
        "VT"
      ],
      "metadata": {
        "colab": {
          "base_uri": "https://localhost:8080/"
        },
        "id": "9vgZxb_GzmY6",
        "outputId": "649f5223-80e3-4eb7-f7f0-34e3b70d1057"
      },
      "execution_count": 6,
      "outputs": [
        {
          "output_type": "execute_result",
          "data": {
            "text/plain": [
              "array([[ 0.55798885,  0.82984845],\n",
              "       [-0.82984845,  0.55798885]])"
            ]
          },
          "metadata": {},
          "execution_count": 6
        }
      ]
    },
    {
      "cell_type": "code",
      "source": [
        "np.diag(d)"
      ],
      "metadata": {
        "colab": {
          "base_uri": "https://localhost:8080/"
        },
        "id": "6VnA4qxsznhK",
        "outputId": "7457fc7b-b032-4368-c5ff-781c920bb824"
      },
      "execution_count": 7,
      "outputs": [
        {
          "output_type": "execute_result",
          "data": {
            "text/plain": [
              "array([[8.66918448, 0.        ],\n",
              "       [0.        , 4.10429538]])"
            ]
          },
          "metadata": {},
          "execution_count": 7
        }
      ]
    },
    {
      "cell_type": "markdown",
      "source": [
        "$D$ must have the same dimensions as $A$ for $UDV^T$ matrix multiplication to be possible:"
      ],
      "metadata": {
        "id": "RKmhttao0Csz"
      }
    },
    {
      "cell_type": "code",
      "source": [
        "D = np.concatenate((np.diag(d), [[0,0]]), axis=0)\n",
        "D"
      ],
      "metadata": {
        "colab": {
          "base_uri": "https://localhost:8080/"
        },
        "id": "2ch4LVr8z8cZ",
        "outputId": "d085428d-bfd8-4601-c858-423aaac32434"
      },
      "execution_count": 9,
      "outputs": [
        {
          "output_type": "execute_result",
          "data": {
            "text/plain": [
              "array([[8.66918448, 0.        ],\n",
              "       [0.        , 4.10429538],\n",
              "       [0.        , 0.        ]])"
            ]
          },
          "metadata": {},
          "execution_count": 9
        }
      ]
    },
    {
      "cell_type": "code",
      "source": [
        "np.dot(U, np.dot(D,VT))"
      ],
      "metadata": {
        "colab": {
          "base_uri": "https://localhost:8080/"
        },
        "id": "X2ZvUEF20TTB",
        "outputId": "8be7d141-6b99-4473-cf5a-44496b42f5ca"
      },
      "execution_count": 10,
      "outputs": [
        {
          "output_type": "execute_result",
          "data": {
            "text/plain": [
              "array([[-1.,  2.],\n",
              "       [ 3., -2.],\n",
              "       [ 5.,  7.]])"
            ]
          },
          "metadata": {},
          "execution_count": 10
        }
      ]
    },
    {
      "cell_type": "code",
      "source": [
        "np.dot(A,np.transpose(A))"
      ],
      "metadata": {
        "colab": {
          "base_uri": "https://localhost:8080/"
        },
        "id": "U8J6e-BX4Pcv",
        "outputId": "28f499c1-afd3-4f93-9c4b-cc9381d4b6b8"
      },
      "execution_count": 12,
      "outputs": [
        {
          "output_type": "execute_result",
          "data": {
            "text/plain": [
              "array([[ 5, -7,  9],\n",
              "       [-7, 13,  1],\n",
              "       [ 9,  1, 74]])"
            ]
          },
          "metadata": {},
          "execution_count": 12
        }
      ]
    },
    {
      "cell_type": "code",
      "source": [
        "np.dot(np.transpose(A),A)"
      ],
      "metadata": {
        "colab": {
          "base_uri": "https://localhost:8080/"
        },
        "id": "nwKFVUdU4WTG",
        "outputId": "4cef008e-ef94-4c75-f385-f22532aadfee"
      },
      "execution_count": 13,
      "outputs": [
        {
          "output_type": "execute_result",
          "data": {
            "text/plain": [
              "array([[35, 27],\n",
              "       [27, 57]])"
            ]
          },
          "metadata": {},
          "execution_count": 13
        }
      ]
    },
    {
      "cell_type": "code",
      "source": [
        "np.linalg.eig(np.dot(np.transpose(A),A))"
      ],
      "metadata": {
        "colab": {
          "base_uri": "https://localhost:8080/"
        },
        "id": "Y6Y405xz4hMG",
        "outputId": "c9a5a3bf-eb67-4589-df0a-578ae9c47174"
      },
      "execution_count": 15,
      "outputs": [
        {
          "output_type": "execute_result",
          "data": {
            "text/plain": [
              "EigResult(eigenvalues=array([16.84524053, 75.15475947]), eigenvectors=array([[-0.82984845, -0.55798885],\n",
              "       [ 0.55798885, -0.82984845]]))"
            ]
          },
          "metadata": {},
          "execution_count": 15
        }
      ]
    },
    {
      "cell_type": "code",
      "source": [
        "np.linalg.eig(np.dot(A,np.transpose(A)))"
      ],
      "metadata": {
        "colab": {
          "base_uri": "https://localhost:8080/"
        },
        "id": "1MkjXlGL5DGj",
        "outputId": "a41f26ff-8b42-490f-9318-02a07aec83bb"
      },
      "execution_count": 16,
      "outputs": [
        {
          "output_type": "execute_result",
          "data": {
            "text/plain": [
              "EigResult(eigenvalues=array([7.51547595e+01, 7.08742960e-16, 1.68452405e+01]), eigenvectors=array([[-0.12708324,  0.87125411, -0.47409506],\n",
              "       [-0.00164602,  0.47778451,  0.87847553],\n",
              "       [-0.99189069, -0.11241989,  0.0592843 ]]))"
            ]
          },
          "metadata": {},
          "execution_count": 16
        }
      ]
    },
    {
      "cell_type": "code",
      "source": [],
      "metadata": {
        "id": "f18bklwx6Pj3"
      },
      "execution_count": null,
      "outputs": []
    }
  ]
}