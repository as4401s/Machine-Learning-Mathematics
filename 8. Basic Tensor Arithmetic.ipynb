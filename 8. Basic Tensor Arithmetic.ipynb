{
 "cells": [
  {
   "cell_type": "code",
   "execution_count": 1,
   "id": "1b7fab9f",
   "metadata": {},
   "outputs": [],
   "source": [
    "import numpy as np"
   ]
  },
  {
   "cell_type": "code",
   "execution_count": 2,
   "id": "8627e621",
   "metadata": {},
   "outputs": [
    {
     "data": {
      "text/plain": [
       "array([[25,  2],\n",
       "       [ 5, 26],\n",
       "       [ 3,  7]])"
      ]
     },
     "execution_count": 2,
     "metadata": {},
     "output_type": "execute_result"
    }
   ],
   "source": [
    "# Use array() with nested brackets:\n",
    "X = np.array([[25, 2], [5, 26], [3, 7]])\n",
    "X"
   ]
  },
  {
   "cell_type": "code",
   "execution_count": 3,
   "id": "88e9e3a0",
   "metadata": {},
   "outputs": [
    {
     "data": {
      "text/plain": [
       "array([[50,  4],\n",
       "       [10, 52],\n",
       "       [ 6, 14]])"
      ]
     },
     "execution_count": 3,
     "metadata": {},
     "output_type": "execute_result"
    }
   ],
   "source": [
    "X*2"
   ]
  },
  {
   "cell_type": "code",
   "execution_count": 4,
   "id": "bfec7a1c",
   "metadata": {},
   "outputs": [
    {
     "data": {
      "text/plain": [
       "array([[52,  6],\n",
       "       [12, 54],\n",
       "       [ 8, 16]])"
      ]
     },
     "execution_count": 4,
     "metadata": {},
     "output_type": "execute_result"
    }
   ],
   "source": [
    "X*2+2"
   ]
  },
  {
   "cell_type": "markdown",
   "id": "a79ee158",
   "metadata": {},
   "source": [
    "### Pytorch"
   ]
  },
  {
   "cell_type": "code",
   "execution_count": 5,
   "id": "772c046f",
   "metadata": {},
   "outputs": [
    {
     "data": {
      "text/plain": [
       "tensor([[25,  2],\n",
       "        [ 5, 26],\n",
       "        [ 3,  7]])"
      ]
     },
     "execution_count": 5,
     "metadata": {},
     "output_type": "execute_result"
    }
   ],
   "source": [
    "import torch\n",
    "\n",
    "X_pt = torch.tensor([[25, 2], [5, 26], [3, 7]])\n",
    "X_pt"
   ]
  },
  {
   "cell_type": "code",
   "execution_count": 6,
   "id": "5e2185ad",
   "metadata": {},
   "outputs": [
    {
     "data": {
      "text/plain": [
       "tensor([[52,  6],\n",
       "        [12, 54],\n",
       "        [ 8, 16]])"
      ]
     },
     "execution_count": 6,
     "metadata": {},
     "output_type": "execute_result"
    }
   ],
   "source": [
    "\n",
    "X_pt*2+2 # Python operators are overloaded; could alternatively use torch.mul() or torch.add()"
   ]
  },
  {
   "cell_type": "code",
   "execution_count": 7,
   "id": "a92668a1",
   "metadata": {},
   "outputs": [
    {
     "data": {
      "text/plain": [
       "tensor([[52,  6],\n",
       "        [12, 54],\n",
       "        [ 8, 16]])"
      ]
     },
     "execution_count": 7,
     "metadata": {},
     "output_type": "execute_result"
    }
   ],
   "source": [
    "torch.add(torch.mul(X_pt, 2), 2)"
   ]
  },
  {
   "cell_type": "markdown",
   "id": "f5480ab8",
   "metadata": {},
   "source": [
    "If two tensors have the same size, operations are often by default applied element-wise. This is not matrix multiplication, which we'll cover later, but is rather called the Hadamard product or simply the element-wise product."
   ]
  },
  {
   "cell_type": "code",
   "execution_count": 8,
   "id": "6beaa36a",
   "metadata": {},
   "outputs": [
    {
     "data": {
      "text/plain": [
       "array([[25,  2],\n",
       "       [ 5, 26],\n",
       "       [ 3,  7]])"
      ]
     },
     "execution_count": 8,
     "metadata": {},
     "output_type": "execute_result"
    }
   ],
   "source": [
    "X"
   ]
  },
  {
   "cell_type": "code",
   "execution_count": 9,
   "id": "c94536d9",
   "metadata": {},
   "outputs": [],
   "source": [
    "A = X+2"
   ]
  },
  {
   "cell_type": "code",
   "execution_count": 10,
   "id": "90f8ef0c",
   "metadata": {},
   "outputs": [
    {
     "data": {
      "text/plain": [
       "array([[52,  6],\n",
       "       [12, 54],\n",
       "       [ 8, 16]])"
      ]
     },
     "execution_count": 10,
     "metadata": {},
     "output_type": "execute_result"
    }
   ],
   "source": [
    "A+X"
   ]
  },
  {
   "cell_type": "code",
   "execution_count": 11,
   "id": "8a1fb0a8",
   "metadata": {},
   "outputs": [
    {
     "data": {
      "text/plain": [
       "array([[675,   8],\n",
       "       [ 35, 728],\n",
       "       [ 15,  63]])"
      ]
     },
     "execution_count": 11,
     "metadata": {},
     "output_type": "execute_result"
    }
   ],
   "source": [
    "A*X"
   ]
  },
  {
   "cell_type": "code",
   "execution_count": 12,
   "id": "add5d4d7",
   "metadata": {},
   "outputs": [],
   "source": [
    "A_pt = X_pt + 2"
   ]
  },
  {
   "cell_type": "code",
   "execution_count": 13,
   "id": "543500ee",
   "metadata": {},
   "outputs": [
    {
     "data": {
      "text/plain": [
       "tensor([[52,  6],\n",
       "        [12, 54],\n",
       "        [ 8, 16]])"
      ]
     },
     "execution_count": 13,
     "metadata": {},
     "output_type": "execute_result"
    }
   ],
   "source": [
    "A_pt + X_pt"
   ]
  },
  {
   "cell_type": "code",
   "execution_count": 14,
   "id": "fe8cc660",
   "metadata": {},
   "outputs": [
    {
     "data": {
      "text/plain": [
       "tensor([[675,   8],\n",
       "        [ 35, 728],\n",
       "        [ 15,  63]])"
      ]
     },
     "execution_count": 14,
     "metadata": {},
     "output_type": "execute_result"
    }
   ],
   "source": [
    "A_pt * X_pt"
   ]
  }
 ],
 "metadata": {
  "kernelspec": {
   "display_name": "Python 3 (ipykernel)",
   "language": "python",
   "name": "python3"
  },
  "language_info": {
   "codemirror_mode": {
    "name": "ipython",
    "version": 3
   },
   "file_extension": ".py",
   "mimetype": "text/x-python",
   "name": "python",
   "nbconvert_exporter": "python",
   "pygments_lexer": "ipython3",
   "version": "3.9.13"
  }
 },
 "nbformat": 4,
 "nbformat_minor": 5
}
