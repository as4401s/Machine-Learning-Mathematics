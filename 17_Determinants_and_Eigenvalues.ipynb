{
  "nbformat": 4,
  "nbformat_minor": 0,
  "metadata": {
    "colab": {
      "provenance": [],
      "authorship_tag": "ABX9TyNynllKbc4TqBhtxfukr5el",
      "include_colab_link": true
    },
    "kernelspec": {
      "name": "python3",
      "display_name": "Python 3"
    },
    "language_info": {
      "name": "python"
    }
  },
  "cells": [
    {
      "cell_type": "markdown",
      "metadata": {
        "id": "view-in-github",
        "colab_type": "text"
      },
      "source": [
        "<a href=\"https://colab.research.google.com/github/as4401s/Machine-Learning-Mathematics/blob/main/17_Determinants_and_Eigenvalues.ipynb\" target=\"_parent\"><img src=\"https://colab.research.google.com/assets/colab-badge.svg\" alt=\"Open In Colab\"/></a>"
      ]
    },
    {
      "cell_type": "code",
      "execution_count": 9,
      "metadata": {
        "id": "yGlUbQ67wJzo"
      },
      "outputs": [],
      "source": [
        "import numpy as np\n",
        "import matplotlib.pyplot as plt"
      ]
    },
    {
      "cell_type": "code",
      "source": [
        "X = np.array([[1,2,4],[2,-1,3],[0,5,1]])\n",
        "X"
      ],
      "metadata": {
        "colab": {
          "base_uri": "https://localhost:8080/"
        },
        "id": "HxZKmHw1wUNb",
        "outputId": "6c227adb-0d42-4640-de43-5d53c3186231"
      },
      "execution_count": 2,
      "outputs": [
        {
          "output_type": "execute_result",
          "data": {
            "text/plain": [
              "array([[ 1,  2,  4],\n",
              "       [ 2, -1,  3],\n",
              "       [ 0,  5,  1]])"
            ]
          },
          "metadata": {},
          "execution_count": 2
        }
      ]
    },
    {
      "cell_type": "code",
      "source": [
        "np.linalg.det(X)"
      ],
      "metadata": {
        "colab": {
          "base_uri": "https://localhost:8080/"
        },
        "id": "gU6yl-4hwiCZ",
        "outputId": "8c070b0f-7d6a-4f70-f610-d5552cbec02a"
      },
      "execution_count": 3,
      "outputs": [
        {
          "output_type": "execute_result",
          "data": {
            "text/plain": [
              "19.999999999999996"
            ]
          },
          "metadata": {},
          "execution_count": 3
        }
      ]
    },
    {
      "cell_type": "code",
      "source": [
        "eigenvalues, eigenvectors = np.linalg.eig(X)"
      ],
      "metadata": {
        "id": "zghumO63wm05"
      },
      "execution_count": 4,
      "outputs": []
    },
    {
      "cell_type": "code",
      "source": [
        "eigenvalues"
      ],
      "metadata": {
        "colab": {
          "base_uri": "https://localhost:8080/"
        },
        "id": "96BGXtfvwuuR",
        "outputId": "fd16215f-5785-47d9-e1dd-d9fbd0edaf17"
      },
      "execution_count": 5,
      "outputs": [
        {
          "output_type": "execute_result",
          "data": {
            "text/plain": [
              "array([-3.25599251, -1.13863631,  5.39462882])"
            ]
          },
          "metadata": {},
          "execution_count": 5
        }
      ]
    },
    {
      "cell_type": "code",
      "source": [
        "np.product(eigenvalues)"
      ],
      "metadata": {
        "colab": {
          "base_uri": "https://localhost:8080/"
        },
        "id": "Yxh6ezY-wv7B",
        "outputId": "e84ea35a-d751-46b6-a14e-13d8ef9911e4"
      },
      "execution_count": 6,
      "outputs": [
        {
          "output_type": "execute_result",
          "data": {
            "text/plain": [
              "19.99999999999999"
            ]
          },
          "metadata": {},
          "execution_count": 6
        }
      ]
    },
    {
      "cell_type": "code",
      "source": [
        "np.abs(np.linalg.det(X))"
      ],
      "metadata": {
        "colab": {
          "base_uri": "https://localhost:8080/"
        },
        "id": "7khZDJaawzGh",
        "outputId": "86b45173-07c2-4787-c181-20fb41f03e80"
      },
      "execution_count": 7,
      "outputs": [
        {
          "output_type": "execute_result",
          "data": {
            "text/plain": [
              "19.999999999999996"
            ]
          },
          "metadata": {},
          "execution_count": 7
        }
      ]
    },
    {
      "cell_type": "code",
      "source": [
        "B = np.array([[1,0],[0,1]])\n",
        "B"
      ],
      "metadata": {
        "colab": {
          "base_uri": "https://localhost:8080/"
        },
        "id": "a5xWOEzP3POM",
        "outputId": "793e18e1-3953-423e-a43d-6e2ff9342eea"
      },
      "execution_count": 8,
      "outputs": [
        {
          "output_type": "execute_result",
          "data": {
            "text/plain": [
              "array([[1, 0],\n",
              "       [0, 1]])"
            ]
          },
          "metadata": {},
          "execution_count": 8
        }
      ]
    },
    {
      "cell_type": "code",
      "source": [
        "# plot the vectors of B in different colrs and add an arrowhead\n",
        "\n",
        "# Plot arrows corresponding to each row of B\n",
        "plt.arrow(0, 0, B[0, 0], B[0, 1], head_width=0.2, color='r', length_includes_head=True, label='B[0]')\n",
        "plt.arrow(0, 0, B[1, 0], B[1, 1], head_width=0.2, color='b', length_includes_head=True, label='B[1]')\n",
        "\n",
        "plt.axis([-5, 5, -5, 5])\n",
        "plt.grid()\n",
        "plt.axhline(0, color='black',linewidth=0.5)  # X-axis\n",
        "plt.axvline(0, color='black',linewidth=0.5)  # Y-axis\n",
        "plt.gca().set_aspect('equal', adjustable='box')\n",
        "plt.show()"
      ],
      "metadata": {
        "colab": {
          "base_uri": "https://localhost:8080/",
          "height": 430
        },
        "id": "KNsxg_8d3bca",
        "outputId": "bde2d12a-b13f-4839-997c-586259212322"
      },
      "execution_count": 11,
      "outputs": [
        {
          "output_type": "display_data",
          "data": {
            "text/plain": [
              "<Figure size 640x480 with 1 Axes>"
            ],
            "image/png": "[encoded data removed]"
          },
          "metadata": {}
        }
      ]
    },
    {
      "cell_type": "code",
      "source": [
        "N = np.array([[-4,1],[-8,2]])\n",
        "N"
      ],
      "metadata": {
        "colab": {
          "base_uri": "https://localhost:8080/"
        },
        "id": "iNC9MKV94FFo",
        "outputId": "0736f379-8b68-4df1-b9df-f313c2b1b9f4"
      },
      "execution_count": 13,
      "outputs": [
        {
          "output_type": "execute_result",
          "data": {
            "text/plain": [
              "array([[-4,  1],\n",
              "       [-8,  2]])"
            ]
          },
          "metadata": {},
          "execution_count": 13
        }
      ]
    },
    {
      "cell_type": "code",
      "source": [
        "# matrix is singular\n",
        "# can not be inverted as columns are not independent\n",
        "\n",
        "np.linalg.det(N)"
      ],
      "metadata": {
        "colab": {
          "base_uri": "https://localhost:8080/"
        },
        "id": "jMdfZLTf47V1",
        "outputId": "9d776e7a-ed8b-4480-f973-4e72a22ddc84"
      },
      "execution_count": 14,
      "outputs": [
        {
          "output_type": "execute_result",
          "data": {
            "text/plain": [
              "0.0"
            ]
          },
          "metadata": {},
          "execution_count": 14
        }
      ]
    },
    {
      "cell_type": "code",
      "source": [
        "NB = np.dot(N,B)\n",
        "print(NB)"
      ],
      "metadata": {
        "colab": {
          "base_uri": "https://localhost:8080/"
        },
        "id": "p8sAmRQI5OAl",
        "outputId": "0373167f-9d02-48ac-ecec-71a94fabe57b"
      },
      "execution_count": 15,
      "outputs": [
        {
          "output_type": "stream",
          "name": "stdout",
          "text": [
            "[[-4  1]\n",
            " [-8  2]]\n"
          ]
        }
      ]
    },
    {
      "cell_type": "code",
      "source": [
        "# Plot arrows corresponding to each row of B\n",
        "plt.arrow(0, 0, B[0, 0], B[0, 1], head_width=0.2, color='r', length_includes_head=True, label='B[0]')\n",
        "plt.arrow(0, 0, B[1, 0], B[1, 1], head_width=0.2, color='b', length_includes_head=True, label='B[1]')\n",
        "\n",
        "# Plot arrows corresponding to each row of NB\n",
        "plt.arrow(0, 0, NB[0, 0], NB[0, 1], head_width=0.2, color='g', length_includes_head=True, label='NB[0]')\n",
        "plt.arrow(0, 0, NB[1, 0], NB[1, 1], head_width=0.2, color='y', length_includes_head=True, label='NB[1]')\n",
        "\n",
        "\n",
        "plt.axis([-10, 10, -10, 10])\n",
        "plt.grid()\n",
        "plt.axhline(0, color='black',linewidth=0.5)  # X-axis\n",
        "plt.axvline(0, color='black',linewidth=0.5)  # Y-axis\n",
        "plt.gca().set_aspect('equal', adjustable='box')\n",
        "plt.show()"
      ],
      "metadata": {
        "colab": {
          "base_uri": "https://localhost:8080/",
          "height": 435
        },
        "id": "pqsNTxKl5Tjs",
        "outputId": "4a04aab6-b6b2-4d60-e9a8-6fa0a8b96ad1"
      },
      "execution_count": 17,
      "outputs": [
        {
          "output_type": "display_data",
          "data": {
            "text/plain": [
              "<Figure size 640x480 with 1 Axes>"
            ],
            "image/png": "[encoded data removed]"
          },
          "metadata": {}
        }
      ]
    },
    {
      "cell_type": "code",
      "source": [
        "eigenvalues, eigenvectors = np.linalg.eig(N)\n",
        "eigenvalues"
      ],
      "metadata": {
        "colab": {
          "base_uri": "https://localhost:8080/"
        },
        "id": "FoOlSMsp5onc",
        "outputId": "a6e9d1a6-690d-4f1b-e282-55b9b7eeb5de"
      },
      "execution_count": 18,
      "outputs": [
        {
          "output_type": "execute_result",
          "data": {
            "text/plain": [
              "array([-2.,  0.])"
            ]
          },
          "metadata": {},
          "execution_count": 18
        }
      ]
    },
    {
      "cell_type": "code",
      "source": [
        "# prompt: do all the same, but now with a new matrix 1,0--0,1\n",
        "\n",
        "# New matrix\n",
        "C = np.array([[1, 0], [0, 1]])\n",
        "\n",
        "# Calculate NC\n",
        "NC = np.dot(N, C)\n",
        "print(NC)\n",
        "\n",
        "# Plot arrows corresponding to each row of C\n",
        "plt.arrow(0, 0, C[0, 0], C[0, 1], head_width=0.2, color='r', length_includes_head=True, label='C[0]')\n",
        "plt.arrow(0, 0, C[1, 0], C[1, 1], head_width=0.2, color='b', length_includes_head=True, label='C[1]')\n",
        "\n",
        "# Plot arrows corresponding to each row of NC\n",
        "plt.arrow(0, 0, NC[0, 0], NC[0, 1], head_width=0.2, color='g', length_includes_head=True, label='NC[0]')\n",
        "plt.arrow(0, 0, NC[1, 0], NC[1, 1], head_width=0.2, color='y', length_includes_head=True, label='NC[1]')\n",
        "\n",
        "plt.axis([-10, 10, -10, 10])\n",
        "plt.grid()\n",
        "plt.axhline(0, color='black',linewidth=0.5)  # X-axis\n",
        "plt.axvline(0, color='black',linewidth=0.5)  # Y-axis\n",
        "plt.gca().set_aspect('equal', adjustable='box')\n",
        "plt.show()\n",
        "\n",
        "eigenvalues, eigenvectors = np.linalg.eig(N)\n",
        "eigenvalues"
      ],
      "metadata": {
        "colab": {
          "base_uri": "https://localhost:8080/",
          "height": 487
        },
        "id": "2PV5JGsz6QoK",
        "outputId": "030231b0-29a7-40f7-dfb9-43c892054c6d"
      },
      "execution_count": 19,
      "outputs": [
        {
          "output_type": "stream",
          "name": "stdout",
          "text": [
            "[[-4  1]\n",
            " [-8  2]]\n"
          ]
        },
        {
          "output_type": "display_data",
          "data": {
            "text/plain": [
              "<Figure size 640x480 with 1 Axes>"
            ],
            "image/png": "[encoded data removed]"
          },
          "metadata": {}
        },
        {
          "output_type": "execute_result",
          "data": {
            "text/plain": [
              "array([-2.,  0.])"
            ]
          },
          "metadata": {},
          "execution_count": 19
        }
      ]
    }
  ]
}